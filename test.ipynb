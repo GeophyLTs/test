{
 "cells": [
  {
   "cell_type": "code",
   "execution_count": null,
   "id": "b42de652-b356-46e4-88fc-e8cdca8b79e9",
   "metadata": {},
   "outputs": [],
   "source": [
    "!pip install basemap\n",
    "from mpl_toolkits.basemap import Basemap\n",
    "bm = Basemap()\n",
    "print(bm.is_land(99.675, 13.104))  #True\n",
    "print(bm.is_land(100.539, 13.104))  #False"
   ]
  },
  {
   "cell_type": "code",
   "execution_count": null,
   "id": "7594c7c1-fa2c-4e73-b2a7-f3af50a7095d",
   "metadata": {},
   "outputs": [],
   "source": []
  }
 ],
 "metadata": {
  "kernelspec": {
   "display_name": "Python 3 (ipykernel)",
   "language": "python",
   "name": "python3"
  },
  "language_info": {
   "codemirror_mode": {
    "name": "ipython",
    "version": 3
   },
   "file_extension": ".py",
   "mimetype": "text/x-python",
   "name": "python",
   "nbconvert_exporter": "python",
   "pygments_lexer": "ipython3",
   "version": "3.8.15"
  }
 },
 "nbformat": 4,
 "nbformat_minor": 5
}
